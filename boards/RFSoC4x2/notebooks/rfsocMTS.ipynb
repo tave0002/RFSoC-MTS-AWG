{
 "cells": [
  {
   "cell_type": "markdown",
   "id": "f63f07a6",
   "metadata": {},
   "source": [
    "# RFSoC-PYNQ Multi-Tile Sync Acquisition Design\n",
    "---"
   ]
  },
  {
   "cell_type": "markdown",
   "id": "817ae2a8",
   "metadata": {},
   "source": [
    "This overlay demonstrates the capability of the RFSoC4x2 to behave as an arbitrary waveofmr generator (AWG).\n",
    "<p align=\"center\">\n",
    "  <img src=\"https://www.realdigital.org/img/b228828ef9555df47b6dc0bca8e38f90.png\" width=\"28%\" />\n",
    "</p>\n",
    "\n",
    "## Board Silkscreen Mappings: \n",
    "* DAC A -> DAC Tile 230 Channel 0\n",
    "* DAC B -> DAC Tile 228 Channel 0\n",
    "\n",
    "## Design Overview\n",
    "This overlay uses two DAC waveform generator that are set to act in the first an second Nyquist zones spesifically. Both DACs operate at 8GSps. Independent waveforms can be uploaded to the DACs to allow for AWG generation of signals up to 8GHz\n",
    "\n",
    "<div class=\"alert alert-block alert-danger\">Because of the clocking strategy used in this overlay it is best run after first power-cycling your board.</div>"
   ]
  },
  {
   "cell_type": "code",
   "execution_count": null,
   "id": "db4efeda",
   "metadata": {},
   "outputs": [],
   "source": [
    "from rfsoc_awg import awgOverlay\n",
    "import numpy as np\n",
    "import matplotlib.pyplot as plt"
   ]
  },
  {
   "cell_type": "code",
   "execution_count": null,
   "id": "4c07e59a",
   "metadata": {},
   "outputs": [
    {
     "data": {
      "application/javascript": "\ntry {\nrequire(['notebook/js/codecell'], function(codecell) {\n  codecell.CodeCell.options_default.highlight_modes[\n      'magic_text/x-csrc'] = {'reg':[/^%%microblaze/]};\n  Jupyter.notebook.events.one('kernel_ready.Kernel', function(){\n      Jupyter.notebook.get_cells().map(function(cell){\n          if (cell.cell_type == 'code'){ cell.auto_highlight(); } }) ;\n  });\n});\n} catch (e) {};\n"
     },
     "metadata": {},
     "output_type": "display_data"
    },
    {
     "data": {
      "application/javascript": "\ntry {\nrequire(['notebook/js/codecell'], function(codecell) {\n  codecell.CodeCell.options_default.highlight_modes[\n      'magic_text/x-csrc'] = {'reg':[/^%%pybind11/]};\n  Jupyter.notebook.events.one('kernel_ready.Kernel', function(){\n      Jupyter.notebook.get_cells().map(function(cell){\n          if (cell.cell_type == 'code'){ cell.auto_highlight(); } }) ;\n  });\n});\n} catch (e) {};\n"
     },
     "metadata": {},
     "output_type": "display_data"
    }
   ],
   "source": [
    "ol = awgOverlay('awgStable.bit',\"stable\") \n",
    "#ol = awgOverlay('awgDev.bit',\"dev\")"
   ]
  },
  {
   "cell_type": "markdown",
   "id": "ee37a708",
   "metadata": {},
   "source": [
    "# Generate Waveforms for Loopback\n",
    " This overlay uses a single waveform memory that is broadcast to multiple DAC tiles.\n",
    "### Prepare the DAC Memory\n",
    "The cell below generates examples waveforms and has customizable paramters.  For example, one can adjust the center frequency, Fc, and re-generate a sinewave."
   ]
  },
  {
   "cell_type": "code",
   "execution_count": null,
   "id": "94aad73d",
   "metadata": {},
   "outputs": [
    {
     "name": "stdout",
     "output_type": "stream",
     "text": [
      "1048576\n",
      "500000000.0\n"
     ]
    }
   ],
   "source": [
    "DAC_SR = 8.0E9  # Sample rate of DACs and ADCs is 4.0 GHz\n",
    "Fc = ol.frequency_round(0.5E9,DAC_SR) # Set center frequency of waveform to 250.0 MHz\n",
    "DAC_Amplitude = 16383  # 14bit DAC +16383/-16384\n",
    "X_axis =  (1/DAC_SR)*np.arange(0,ol.dac_player.shape[0]) #generate a buffer the exact length of the memory at time intervals that line up with the sample rate\n",
    "\n",
    "print(ol.dac_player.shape[0])\n",
    "print(Fc)"
   ]
  },
  {
   "cell_type": "code",
   "execution_count": null,
   "id": "7c06bac5",
   "metadata": {},
   "outputs": [
    {
     "name": "stdout",
     "output_type": "stream",
     "text": [
      "58\n"
     ]
    }
   ],
   "source": [
    "# Generating a frequency comb\n",
    "\n",
    "frequencyList = np.arange(0.1*10**9,4.0*10**9,50*10**6)\n",
    "sineTemplate=np.zeros(len(X_axis))\n",
    "frquencyNum=len(sineTemplate)\n",
    "combCounter=1\n",
    "for f in frequencyList:\n",
    "    sineTemplate = sineTemplate+(1/len(frequencyList))*np.sin(2*np.pi*ol.frequency_round(f,DAC_SR)*X_axis) #frequency round ensures the frequency is an integer multiple of the dac buffer frequency resolution, ensuring that there is no jump when it loops around\n",
    "    print(f\"Completed {combCounter} of {frquencyNum} frequency peaks\")\n",
    "    combCounter+=1\n",
    "sineTemplate = DAC_Amplitude*sineTemplate\n",
    "\n",
    "print(f\"There are {frquencyNum} peaks in the frequency comb\")\n",
    "DAC_sinewave = DAC_Amplitude*np.sin(2*np.pi*Fc*X_axis)\n",
    "DAC_DC = DAC_Amplitude*np.ones(len(X_axis))"
   ]
  },
  {
   "cell_type": "code",
   "execution_count": null,
   "id": "4f38d80f",
   "metadata": {},
   "outputs": [
    {
     "name": "stdout",
     "output_type": "stream",
     "text": [
      "2870002746.5820312\n",
      "2870010375.9765625\n",
      "-7629.39453125\n"
     ]
    }
   ],
   "source": [
    "#play frequency, player is used for first nyquist zone, player2 for second, however due to aliassing your signal\n",
    "#will still be present in both, the difference between the 2 is the power distribution across first and second nyquist\n",
    "ol.dac_player[:]=np.int16(sineTemplate)\n",
    "#ol.dac_player2[:]=np.int16(sineTemplate) \n",
    "ol.trigger_dac() #turns on both dacs, can be turned off using ol.dac_enable.off()"
   ]
  },
  {
   "cell_type": "markdown",
   "id": "01e792d9",
   "metadata": {},
   "source": [
    "---"
   ]
  }
 ],
 "metadata": {
  "kernelspec": {
   "display_name": "Python 3 (ipykernel)",
   "language": "python",
   "name": "python3"
  },
  "language_info": {
   "codemirror_mode": {
    "name": "ipython",
    "version": 3
   },
   "file_extension": ".py",
   "mimetype": "text/x-python",
   "name": "python",
   "nbconvert_exporter": "python",
   "pygments_lexer": "ipython3",
   "version": "3.10.4"
  }
 },
 "nbformat": 4,
 "nbformat_minor": 5
}
